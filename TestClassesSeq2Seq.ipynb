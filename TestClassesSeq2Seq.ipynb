{
 "cells": [
  {
   "cell_type": "code",
   "execution_count": 1,
   "metadata": {},
   "outputs": [
    {
     "name": "stderr",
     "output_type": "stream",
     "text": [
      "Using TensorFlow backend.\n"
     ]
    }
   ],
   "source": [
    "from WikiSeriesNN import WikiSeriesNN\n",
    "\n",
    "from WikiPlot import plot_prediction\n",
    "from Seq2SeqConv import Seq2SeqConv as Seq2Seq\n",
    "from os import path\n",
    "import pickle"
   ]
  },
  {
   "cell_type": "code",
   "execution_count": 2,
   "metadata": {},
   "outputs": [],
   "source": [
    "root_folder = \"./data\"\n",
    "train_file = path.join(root_folder,\"train_meta.pkl\")"
   ]
  },
  {
   "cell_type": "code",
   "execution_count": 3,
   "metadata": {},
   "outputs": [
    {
     "name": "stdout",
     "output_type": "stream",
     "text": [
      "Data ranges from 2015-07-01 to 2017-09-10\n"
     ]
    }
   ],
   "source": [
    "series = WikiSeriesNN(train_file)"
   ]
  },
  {
   "cell_type": "code",
   "execution_count": 4,
   "metadata": {},
   "outputs": [
    {
     "data": {
      "text/html": [
       "<div>\n",
       "<style scoped>\n",
       "    .dataframe tbody tr th:only-of-type {\n",
       "        vertical-align: middle;\n",
       "    }\n",
       "\n",
       "    .dataframe tbody tr th {\n",
       "        vertical-align: top;\n",
       "    }\n",
       "\n",
       "    .dataframe thead th {\n",
       "        text-align: right;\n",
       "    }\n",
       "</style>\n",
       "<table border=\"1\" class=\"dataframe\">\n",
       "  <thead>\n",
       "    <tr style=\"text-align: right;\">\n",
       "      <th></th>\n",
       "      <th>name</th>\n",
       "      <th>lang</th>\n",
       "      <th>access</th>\n",
       "      <th>agent</th>\n",
       "    </tr>\n",
       "  </thead>\n",
       "  <tbody>\n",
       "    <tr>\n",
       "      <th>0</th>\n",
       "      <td>2NE1</td>\n",
       "      <td>zh</td>\n",
       "      <td>all-access</td>\n",
       "      <td>spider</td>\n",
       "    </tr>\n",
       "    <tr>\n",
       "      <th>1</th>\n",
       "      <td>2PM</td>\n",
       "      <td>zh</td>\n",
       "      <td>all-access</td>\n",
       "      <td>spider</td>\n",
       "    </tr>\n",
       "    <tr>\n",
       "      <th>2</th>\n",
       "      <td>3C</td>\n",
       "      <td>zh</td>\n",
       "      <td>all-access</td>\n",
       "      <td>spider</td>\n",
       "    </tr>\n",
       "    <tr>\n",
       "      <th>3</th>\n",
       "      <td>4minute</td>\n",
       "      <td>zh</td>\n",
       "      <td>all-access</td>\n",
       "      <td>spider</td>\n",
       "    </tr>\n",
       "    <tr>\n",
       "      <th>4</th>\n",
       "      <td>5566</td>\n",
       "      <td>zh</td>\n",
       "      <td>all-access</td>\n",
       "      <td>spider</td>\n",
       "    </tr>\n",
       "  </tbody>\n",
       "</table>\n",
       "</div>"
      ],
      "text/plain": [
       "      name lang      access   agent\n",
       "0     2NE1   zh  all-access  spider\n",
       "1      2PM   zh  all-access  spider\n",
       "2       3C   zh  all-access  spider\n",
       "3  4minute   zh  all-access  spider\n",
       "4     5566   zh  all-access  spider"
      ]
     },
     "execution_count": 4,
     "metadata": {},
     "output_type": "execute_result"
    }
   ],
   "source": [
    "series.meta.head()"
   ]
  },
  {
   "cell_type": "code",
   "execution_count": 5,
   "metadata": {},
   "outputs": [
    {
     "name": "stdout",
     "output_type": "stream",
     "text": [
      "Train encoding: 2015-07-01 00:00:00 - 2017-05-13 00:00:00\n",
      "Train prediction: 2017-05-14 00:00:00 - 2017-07-12 00:00:00 \n",
      "\n",
      "Val encoding: 2015-08-30 00:00:00 - 2017-07-12 00:00:00\n",
      "Val prediction: 2017-07-13 00:00:00 - 2017-09-10 00:00:00\n",
      "\n",
      "Encoding interval: 683\n",
      "Prediction interval: 60\n",
      "WARNING:tensorflow:From /Users/maximelovino/Documents/LOCAL_CODE/WikiForecasting/venv/lib/python3.7/site-packages/tensorflow/python/framework/op_def_library.py:263: colocate_with (from tensorflow.python.framework.ops) is deprecated and will be removed in a future version.\n",
      "Instructions for updating:\n",
      "Colocations handled automatically by placer.\n",
      "WARNING:tensorflow:From /Users/maximelovino/Documents/LOCAL_CODE/WikiForecasting/venv/lib/python3.7/site-packages/keras/backend/tensorflow_backend.py:3445: calling dropout (from tensorflow.python.ops.nn_ops) with keep_prob is deprecated and will be removed in a future version.\n",
      "Instructions for updating:\n",
      "Please use `rate` instead of `keep_prob`. Rate should be set to `rate = 1 - keep_prob`.\n",
      "_________________________________________________________________\n",
      "Layer (type)                 Output Shape              Param #   \n",
      "=================================================================\n",
      "input_1 (InputLayer)         (None, None, 1)           0         \n",
      "_________________________________________________________________\n",
      "conv1d_1 (Conv1D)            (None, None, 32)          96        \n",
      "_________________________________________________________________\n",
      "conv1d_2 (Conv1D)            (None, None, 32)          2080      \n",
      "_________________________________________________________________\n",
      "conv1d_3 (Conv1D)            (None, None, 32)          2080      \n",
      "_________________________________________________________________\n",
      "conv1d_4 (Conv1D)            (None, None, 32)          2080      \n",
      "_________________________________________________________________\n",
      "conv1d_5 (Conv1D)            (None, None, 32)          2080      \n",
      "_________________________________________________________________\n",
      "conv1d_6 (Conv1D)            (None, None, 32)          2080      \n",
      "_________________________________________________________________\n",
      "conv1d_7 (Conv1D)            (None, None, 32)          2080      \n",
      "_________________________________________________________________\n",
      "conv1d_8 (Conv1D)            (None, None, 32)          2080      \n",
      "_________________________________________________________________\n",
      "dense_1 (Dense)              (None, None, 128)         4224      \n",
      "_________________________________________________________________\n",
      "dropout_1 (Dropout)          (None, None, 128)         0         \n",
      "_________________________________________________________________\n",
      "dense_2 (Dense)              (None, None, 1)           129       \n",
      "_________________________________________________________________\n",
      "lambda_1 (Lambda)            (None, None, 1)           0         \n",
      "=================================================================\n",
      "Total params: 19,009\n",
      "Trainable params: 19,009\n",
      "Non-trainable params: 0\n",
      "_________________________________________________________________\n"
     ]
    }
   ],
   "source": [
    "seq2seq = Seq2Seq(series,60)"
   ]
  },
  {
   "cell_type": "code",
   "execution_count": 6,
   "metadata": {},
   "outputs": [
    {
     "name": "stderr",
     "output_type": "stream",
     "text": [
      "/Users/maximelovino/Documents/LOCAL_CODE/WikiForecasting/WikiSeriesNN.py:73: UserWarning: Boolean Series key will be reindexed to match DataFrame index.\n",
      "  index = self.meta[self.meta['name'] == page_name][self.meta['lang'] == lang][self.meta['access'] == access][self.meta['agent'] == agent]\n"
     ]
    }
   ],
   "source": [
    "meta,encode,decode = series.get_sample(page_name='Oxígeno',lang='es',access='all-access',agent='spider', encoding_start='2015-07-03',encoding_end_decoding_start='2015-08-01', decoding_end='2015-09-02')"
   ]
  },
  {
   "cell_type": "code",
   "execution_count": 7,
   "metadata": {},
   "outputs": [
    {
     "data": {
      "text/plain": [
       "name         Oxígeno\n",
       "lang              es\n",
       "access    all-access\n",
       "agent         spider\n",
       "Name: 106299, dtype: object"
      ]
     },
     "execution_count": 7,
     "metadata": {},
     "output_type": "execute_result"
    }
   ],
   "source": [
    "meta"
   ]
  },
  {
   "cell_type": "code",
   "execution_count": 12,
   "metadata": {},
   "outputs": [
    {
     "data": {
      "text/plain": [
       "array([[[ 0.1915285 ],\n",
       "        [-0.21393661],\n",
       "        [-0.08040522],\n",
       "        [-0.08040522],\n",
       "        [-0.3272653 ],\n",
       "        [-0.08040522],\n",
       "        [-0.21393661],\n",
       "        [ 0.06477679],\n",
       "        [-0.45509867],\n",
       "        [-0.17884529],\n",
       "        [-0.7735524 ],\n",
       "        [-0.55040885],\n",
       "        [ 0.32505989],\n",
       "        [-0.21393661],\n",
       "        [-0.28804458],\n",
       "        [-0.3272653 ],\n",
       "        [-0.04963356],\n",
       "        [-0.71292778],\n",
       "        [-0.14494374],\n",
       "        [-0.83809092],\n",
       "        [-1.06123447],\n",
       "        [-0.41064691],\n",
       "        [-0.90708379],\n",
       "        [-1.93670321],\n",
       "        [-1.46669958],\n",
       "        [-0.14494374],\n",
       "        [-0.45509867],\n",
       "        [-1.14824585],\n",
       "        [-1.34891654],\n",
       "        [-0.3272653 ]]])"
      ]
     },
     "execution_count": 12,
     "metadata": {},
     "output_type": "execute_result"
    }
   ],
   "source": [
    "encode"
   ]
  },
  {
   "cell_type": "code",
   "execution_count": 13,
   "metadata": {},
   "outputs": [
    {
     "data": {
      "text/plain": [
       "(1, 32, 1)"
      ]
     },
     "execution_count": 13,
     "metadata": {},
     "output_type": "execute_result"
    }
   ],
   "source": [
    "decode.shape"
   ]
  },
  {
   "cell_type": "code",
   "execution_count": null,
   "metadata": {},
   "outputs": [
    {
     "name": "stdout",
     "output_type": "stream",
     "text": [
      "(40000, 742, 1)\n",
      "(40000, 60, 1)\n",
      "WARNING:tensorflow:From /Users/maximelovino/Documents/LOCAL_CODE/WikiForecasting/venv/lib/python3.7/site-packages/tensorflow/python/ops/math_ops.py:3066: to_int32 (from tensorflow.python.ops.math_ops) is deprecated and will be removed in a future version.\n",
      "Instructions for updating:\n",
      "Use tf.cast instead.\n",
      "Train on 32000 samples, validate on 8000 samples\n",
      "Epoch 1/2\n",
      "32000/32000 [==============================] - 187s 6ms/step - loss: 0.3706 - val_loss: 0.3224\n",
      "Epoch 2/2\n",
      "18432/32000 [================>.............] - ETA: 1:52 - loss: 0.2889"
     ]
    }
   ],
   "source": [
    "seq2seq.fit(epochs=2)"
   ]
  },
  {
   "cell_type": "code",
   "execution_count": null,
   "metadata": {},
   "outputs": [],
   "source": [
    "seq2seq.history_plot()"
   ]
  },
  {
   "cell_type": "code",
   "execution_count": null,
   "metadata": {},
   "outputs": [],
   "source": [
    "encode, target = series.get_validation_sample(6005)\n",
    "\n",
    "predict = seq2seq.predict(encode,target,True)\n",
    "\n",
    "encode,target,predict = seq2seq.normalise_reshape_prediction(encode,target,predict,6005)\n",
    "\n",
    "plot_prediction(encode,target,predict)"
   ]
  },
  {
   "cell_type": "code",
   "execution_count": null,
   "metadata": {},
   "outputs": [],
   "source": [
    "saved_path = path.join(root_folder,\"savedConv.h5\")\n",
    "seq2seq.save_model(saved_path)"
   ]
  },
  {
   "cell_type": "code",
   "execution_count": null,
   "metadata": {},
   "outputs": [],
   "source": [
    "fitted = Seq2Seq(series,60)\n",
    "fitted.load_model(saved_path)"
   ]
  },
  {
   "cell_type": "code",
   "execution_count": null,
   "metadata": {},
   "outputs": [],
   "source": [
    "encode, target = series.get_validation_sample(6005)\n",
    "\n"
   ]
  },
  {
   "cell_type": "code",
   "execution_count": null,
   "metadata": {},
   "outputs": [],
   "source": [
    "meta,encode,target = series.get_sample(page_name='Oxígeno',lang='es',access='all-access',agent='spider', encoding_start='2015-07-03',encoding_end_decoding_start='2015-08-01', decoding_end='2015-09-02')\n",
    "\n",
    "predict = fitted.predict(encode,target,True)\n",
    "\n",
    "encode,target,predict = fitted.normalise_reshape_prediction(encode,target,predict,6005)\n",
    "\n",
    "plot_prediction(encode,target,predict)\n",
    "\n"
   ]
  }
 ],
 "metadata": {
  "kernelspec": {
   "display_name": "Python 3",
   "language": "python",
   "name": "python3"
  },
  "language_info": {
   "codemirror_mode": {
    "name": "ipython",
    "version": 3
   },
   "file_extension": ".py",
   "mimetype": "text/x-python",
   "name": "python",
   "nbconvert_exporter": "python",
   "pygments_lexer": "ipython3",
   "version": "3.7.3"
  }
 },
 "nbformat": 4,
 "nbformat_minor": 2
}
