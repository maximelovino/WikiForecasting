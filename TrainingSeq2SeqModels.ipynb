{
 "cells": [
  {
   "cell_type": "markdown",
   "metadata": {
    "colab_type": "text",
    "id": "AmMxcduipzG0"
   },
   "source": [
    "# Training neural nets"
   ]
  },
  {
   "cell_type": "code",
   "execution_count": 1,
   "metadata": {
    "colab": {
     "base_uri": "https://localhost:8080/",
     "height": 161
    },
    "colab_type": "code",
    "id": "CqfYH8cnpzG1",
    "outputId": "73fdeef0-a423-4724-c421-e67c0bb3ca7e"
   },
   "outputs": [
    {
     "name": "stdout",
     "output_type": "stream",
     "text": [
      "Requirement already satisfied: gdown in /usr/local/lib/python3.6/dist-packages (3.6.4)\n",
      "Requirement already satisfied: requests in /usr/local/lib/python3.6/dist-packages (from gdown) (2.21.0)\n",
      "Requirement already satisfied: six in /usr/local/lib/python3.6/dist-packages (from gdown) (1.12.0)\n",
      "Requirement already satisfied: tqdm in /usr/local/lib/python3.6/dist-packages (from gdown) (4.28.1)\n",
      "Requirement already satisfied: chardet<3.1.0,>=3.0.2 in /usr/local/lib/python3.6/dist-packages (from requests->gdown) (3.0.4)\n",
      "Requirement already satisfied: idna<2.9,>=2.5 in /usr/local/lib/python3.6/dist-packages (from requests->gdown) (2.8)\n",
      "Requirement already satisfied: urllib3<1.25,>=1.21.1 in /usr/local/lib/python3.6/dist-packages (from requests->gdown) (1.24.3)\n",
      "Requirement already satisfied: certifi>=2017.4.17 in /usr/local/lib/python3.6/dist-packages (from requests->gdown) (2019.3.9)\n"
     ]
    }
   ],
   "source": [
    "!pip install gdown"
   ]
  },
  {
   "cell_type": "code",
   "execution_count": 2,
   "metadata": {
    "colab": {
     "base_uri": "https://localhost:8080/",
     "height": 89
    },
    "colab_type": "code",
    "id": "Tii52E1TpzG4",
    "outputId": "d3aa8c71-e083-4393-ef91-4edf7efd7263"
   },
   "outputs": [
    {
     "name": "stdout",
     "output_type": "stream",
     "text": [
      "Downloading...\n",
      "From: https://drive.google.com/uc?id=1fFKvR46KP-tFEUuoc1FOs_y0HROLkVeb\n",
      "To: /content/train_meta.pkl\n",
      "689MB [00:04, 155MB/s]\n"
     ]
    }
   ],
   "source": [
    "!gdown https://drive.google.com/uc?id=1fFKvR46KP-tFEUuoc1FOs_y0HROLkVeb"
   ]
  },
  {
   "cell_type": "code",
   "execution_count": null,
   "metadata": {
    "colab": {},
    "colab_type": "code",
    "id": "BAeNnCLUpzG6"
   },
   "outputs": [],
   "source": [
    "!mkdir -p data\n",
    "!mv train_meta.pkl data/"
   ]
  },
  {
   "cell_type": "code",
   "execution_count": 4,
   "metadata": {
    "colab": {
     "base_uri": "https://localhost:8080/",
     "height": 35
    },
    "colab_type": "code",
    "id": "P5YUPmBupzG8",
    "outputId": "7f4f8ec5-3c60-4f85-f24a-5a50674aec2b"
   },
   "outputs": [
    {
     "name": "stderr",
     "output_type": "stream",
     "text": [
      "Using TensorFlow backend.\n"
     ]
    }
   ],
   "source": [
    "from WikiSeriesNN import WikiSeriesNN\n",
    "\n",
    "from WikiPlot import plot_prediction\n",
    "from Seq2SeqConv import Seq2SeqConv\n",
    "from Seq2SeqConvFull import Seq2SeqConvFull\n",
    "from Seq2Seq import Seq2Seq\n",
    "from os import path\n",
    "import pickle\n",
    "from PerformanceMetrics import smape"
   ]
  },
  {
   "cell_type": "code",
   "execution_count": null,
   "metadata": {
    "colab": {},
    "colab_type": "code",
    "id": "968_nwn3pzHA"
   },
   "outputs": [],
   "source": [
    "root_folder = \"./data\"\n",
    "train_file = path.join(root_folder,\"train_meta.pkl\")"
   ]
  },
  {
   "cell_type": "markdown",
   "metadata": {
    "colab_type": "text",
    "id": "loVPRCuXpzHC"
   },
   "source": [
    "## Training Standard Seq2Seq"
   ]
  },
  {
   "cell_type": "code",
   "execution_count": 7,
   "metadata": {
    "colab": {
     "base_uri": "https://localhost:8080/",
     "height": 35
    },
    "colab_type": "code",
    "id": "3MUwUiQypzHC",
    "outputId": "3ef4a917-50db-4f4a-8001-a9d9f46cb79e"
   },
   "outputs": [
    {
     "name": "stdout",
     "output_type": "stream",
     "text": [
      "Data ranges from 2015-07-01 to 2017-09-10\n"
     ]
    }
   ],
   "source": [
    "series = WikiSeriesNN(train_file)"
   ]
  },
  {
   "cell_type": "code",
   "execution_count": 8,
   "metadata": {
    "colab": {
     "base_uri": "https://localhost:8080/",
     "height": 739
    },
    "colab_type": "code",
    "id": "SH-3CRlbpzHE",
    "outputId": "62a643e2-7864-4cb4-ba60-8d19681ba6e9"
   },
   "outputs": [
    {
     "name": "stdout",
     "output_type": "stream",
     "text": [
      "Train encoding: 2015-07-01 00:00:00 - 2017-05-13 00:00:00\n",
      "Train prediction: 2017-05-14 00:00:00 - 2017-07-12 00:00:00 \n",
      "\n",
      "Val encoding: 2015-08-30 00:00:00 - 2017-07-12 00:00:00\n",
      "Val prediction: 2017-07-13 00:00:00 - 2017-09-10 00:00:00\n",
      "\n",
      "Encoding interval: 683\n",
      "Prediction interval: 60\n"
     ]
    },
    {
     "name": "stderr",
     "output_type": "stream",
     "text": [
      "WARNING: Logging before flag parsing goes to stderr.\n",
      "W0623 09:27:03.953670 140206005413760 deprecation_wrapper.py:119] From /usr/local/lib/python3.6/dist-packages/keras/backend/tensorflow_backend.py:74: The name tf.get_default_graph is deprecated. Please use tf.compat.v1.get_default_graph instead.\n",
      "\n",
      "W0623 09:27:03.984871 140206005413760 deprecation_wrapper.py:119] From /usr/local/lib/python3.6/dist-packages/keras/backend/tensorflow_backend.py:517: The name tf.placeholder is deprecated. Please use tf.compat.v1.placeholder instead.\n",
      "\n",
      "W0623 09:27:03.992442 140206005413760 deprecation_wrapper.py:119] From /usr/local/lib/python3.6/dist-packages/keras/backend/tensorflow_backend.py:4138: The name tf.random_uniform is deprecated. Please use tf.random.uniform instead.\n",
      "\n",
      "W0623 09:27:04.094428 140206005413760 deprecation_wrapper.py:119] From /usr/local/lib/python3.6/dist-packages/keras/backend/tensorflow_backend.py:133: The name tf.placeholder_with_default is deprecated. Please use tf.compat.v1.placeholder_with_default instead.\n",
      "\n",
      "W0623 09:27:04.106975 140206005413760 deprecation.py:506] From /usr/local/lib/python3.6/dist-packages/keras/backend/tensorflow_backend.py:3445: calling dropout (from tensorflow.python.ops.nn_ops) with keep_prob is deprecated and will be removed in a future version.\n",
      "Instructions for updating:\n",
      "Please use `rate` instead of `keep_prob`. Rate should be set to `rate = 1 - keep_prob`.\n"
     ]
    },
    {
     "name": "stdout",
     "output_type": "stream",
     "text": [
      "__________________________________________________________________________________________________\n",
      "Layer (type)                    Output Shape         Param #     Connected to                     \n",
      "==================================================================================================\n",
      "input_1 (InputLayer)            (None, None, 1)      0                                            \n",
      "__________________________________________________________________________________________________\n",
      "input_2 (InputLayer)            (None, None, 1)      0                                            \n",
      "__________________________________________________________________________________________________\n",
      "lstm_1 (LSTM)                   [(None, 50), (None,  10400       input_1[0][0]                    \n",
      "__________________________________________________________________________________________________\n",
      "lstm_2 (LSTM)                   [(None, None, 50), ( 10400       input_2[0][0]                    \n",
      "                                                                 lstm_1[0][1]                     \n",
      "                                                                 lstm_1[0][2]                     \n",
      "__________________________________________________________________________________________________\n",
      "dense_1 (Dense)                 (None, None, 1)      51          lstm_2[0][0]                     \n",
      "==================================================================================================\n",
      "Total params: 20,851\n",
      "Trainable params: 20,851\n",
      "Non-trainable params: 0\n",
      "__________________________________________________________________________________________________\n"
     ]
    }
   ],
   "source": [
    "seq2seq = Seq2Seq(series,60)"
   ]
  },
  {
   "cell_type": "code",
   "execution_count": 9,
   "metadata": {
    "colab": {
     "base_uri": "https://localhost:8080/",
     "height": 541
    },
    "colab_type": "code",
    "id": "bvUhfs1GpzHG",
    "outputId": "95e02ad1-1db4-4e53-e830-fd38cb074f7e"
   },
   "outputs": [
    {
     "name": "stderr",
     "output_type": "stream",
     "text": [
      "W0623 09:27:04.595389 140206005413760 deprecation_wrapper.py:119] From /usr/local/lib/python3.6/dist-packages/keras/optimizers.py:790: The name tf.train.Optimizer is deprecated. Please use tf.compat.v1.train.Optimizer instead.\n",
      "\n",
      "W0623 09:27:04.817472 140206005413760 deprecation.py:323] From /usr/local/lib/python3.6/dist-packages/tensorflow/python/ops/math_grad.py:1250: add_dispatch_support.<locals>.wrapper (from tensorflow.python.ops.array_ops) is deprecated and will be removed in a future version.\n",
      "Instructions for updating:\n",
      "Use tf.where in 2.0, which has the same broadcast rule as np.where\n",
      "W0623 09:27:05.869642 140206005413760 deprecation_wrapper.py:119] From /usr/local/lib/python3.6/dist-packages/keras/backend/tensorflow_backend.py:986: The name tf.assign_add is deprecated. Please use tf.compat.v1.assign_add instead.\n",
      "\n"
     ]
    },
    {
     "name": "stdout",
     "output_type": "stream",
     "text": [
      "Train on 16000 samples, validate on 4000 samples\n",
      "Epoch 1/10\n",
      "16000/16000 [==============================] - 13s 835us/step - loss: 0.4647 - val_loss: 0.3930\n",
      "Epoch 2/10\n",
      "16000/16000 [==============================] - 9s 560us/step - loss: 0.3774 - val_loss: 0.3009\n",
      "Epoch 3/10\n",
      "16000/16000 [==============================] - 9s 561us/step - loss: 0.3333 - val_loss: 0.2718\n",
      "Epoch 4/10\n",
      "16000/16000 [==============================] - 9s 559us/step - loss: 0.3143 - val_loss: 0.2742\n",
      "Epoch 5/10\n",
      "16000/16000 [==============================] - 9s 567us/step - loss: 0.3107 - val_loss: 0.2578\n",
      "Epoch 6/10\n",
      "16000/16000 [==============================] - 9s 561us/step - loss: 0.3081 - val_loss: 0.2560\n",
      "Epoch 7/10\n",
      "16000/16000 [==============================] - 9s 555us/step - loss: 0.3045 - val_loss: 0.2570\n",
      "Epoch 8/10\n",
      "16000/16000 [==============================] - 9s 571us/step - loss: 0.3051 - val_loss: 0.2520\n",
      "Epoch 9/10\n",
      "16000/16000 [==============================] - 9s 567us/step - loss: 0.3017 - val_loss: 0.2518\n",
      "Epoch 10/10\n",
      "16000/16000 [==============================] - 9s 571us/step - loss: 0.3003 - val_loss: 0.2506\n"
     ]
    }
   ],
   "source": [
    "seq2seq.fit(epochs=10)"
   ]
  },
  {
   "cell_type": "code",
   "execution_count": 10,
   "metadata": {
    "colab": {
     "base_uri": "https://localhost:8080/",
     "height": 295
    },
    "colab_type": "code",
    "id": "jZ3D42CypzHI",
    "outputId": "7a62b641-604d-444e-9898-8342f83d937b"
   },
   "outputs": [
    {
     "data": {
      "image/png": "[encoded data removed]",
      "text/plain": [
       "<Figure size 432x288 with 1 Axes>"
      ]
     },
     "metadata": {
      "tags": []
     },
     "output_type": "display_data"
    }
   ],
   "source": [
    "seq2seq.history_plot()"
   ]
  },
  {
   "cell_type": "code",
   "execution_count": 11,
   "metadata": {
    "colab": {
     "base_uri": "https://localhost:8080/",
     "height": 73
    },
    "colab_type": "code",
    "id": "pOdk6aUspzHK",
    "outputId": "6f312ddd-14c8-4c42-c301-8c2ebf41a603"
   },
   "outputs": [
    {
     "name": "stderr",
     "output_type": "stream",
     "text": [
      "/usr/local/lib/python3.6/dist-packages/keras/engine/network.py:877: UserWarning: Layer lstm_2 was passed non-serializable keyword arguments: {'initial_state': [<tf.Tensor 'input_3:0' shape=(?, 50) dtype=float32>, <tf.Tensor 'input_4:0' shape=(?, 50) dtype=float32>]}. They will not be included in the serialized model (and thus will be missing at deserialization time).\n",
      "  '. They will not be included '\n"
     ]
    }
   ],
   "source": [
    "saved_path = path.join(root_folder,\"savedSeq2Seq.h5\")\n",
    "seq2seq.save_model(saved_path)"
   ]
  },
  {
   "cell_type": "markdown",
   "metadata": {
    "colab_type": "text",
    "id": "eqCHqGkVpzHM"
   },
   "source": [
    "## Training Convolutional Seq2Seq WaveNet simple"
   ]
  },
  {
   "cell_type": "code",
   "execution_count": 12,
   "metadata": {
    "colab": {
     "base_uri": "https://localhost:8080/",
     "height": 35
    },
    "colab_type": "code",
    "id": "ZasypcBApzHN",
    "outputId": "4325888c-44d6-4daa-dd4f-a5176961c6a9"
   },
   "outputs": [
    {
     "name": "stdout",
     "output_type": "stream",
     "text": [
      "Data ranges from 2015-07-01 to 2017-09-10\n"
     ]
    }
   ],
   "source": [
    "series = WikiSeriesNN(train_file)"
   ]
  },
  {
   "cell_type": "code",
   "execution_count": 13,
   "metadata": {
    "colab": {
     "base_uri": "https://localhost:8080/",
     "height": 863
    },
    "colab_type": "code",
    "id": "dAgzMe9GpzHP",
    "outputId": "ecfb1c56-3e76-4a32-a2ff-941b3951f796"
   },
   "outputs": [
    {
     "name": "stdout",
     "output_type": "stream",
     "text": [
      "Train encoding: 2015-07-01 00:00:00 - 2017-05-13 00:00:00\n",
      "Train prediction: 2017-05-14 00:00:00 - 2017-07-12 00:00:00 \n",
      "\n",
      "Val encoding: 2015-08-30 00:00:00 - 2017-07-12 00:00:00\n",
      "Val prediction: 2017-07-13 00:00:00 - 2017-09-10 00:00:00\n",
      "\n",
      "Encoding interval: 683\n",
      "Prediction interval: 60\n",
      "_________________________________________________________________\n",
      "Layer (type)                 Output Shape              Param #   \n",
      "=================================================================\n",
      "input_5 (InputLayer)         (None, None, 1)           0         \n",
      "_________________________________________________________________\n",
      "conv1d_1 (Conv1D)            (None, None, 32)          96        \n",
      "_________________________________________________________________\n",
      "conv1d_2 (Conv1D)            (None, None, 32)          2080      \n",
      "_________________________________________________________________\n",
      "conv1d_3 (Conv1D)            (None, None, 32)          2080      \n",
      "_________________________________________________________________\n",
      "conv1d_4 (Conv1D)            (None, None, 32)          2080      \n",
      "_________________________________________________________________\n",
      "conv1d_5 (Conv1D)            (None, None, 32)          2080      \n",
      "_________________________________________________________________\n",
      "conv1d_6 (Conv1D)            (None, None, 32)          2080      \n",
      "_________________________________________________________________\n",
      "conv1d_7 (Conv1D)            (None, None, 32)          2080      \n",
      "_________________________________________________________________\n",
      "conv1d_8 (Conv1D)            (None, None, 32)          2080      \n",
      "_________________________________________________________________\n",
      "conv1d_9 (Conv1D)            (None, None, 32)          2080      \n",
      "_________________________________________________________________\n",
      "conv1d_10 (Conv1D)           (None, None, 32)          2080      \n",
      "_________________________________________________________________\n",
      "conv1d_11 (Conv1D)           (None, None, 32)          2080      \n",
      "_________________________________________________________________\n",
      "dense_2 (Dense)              (None, None, 128)         4224      \n",
      "_________________________________________________________________\n",
      "dropout_1 (Dropout)          (None, None, 128)         0         \n",
      "_________________________________________________________________\n",
      "dense_3 (Dense)              (None, None, 1)           129       \n",
      "_________________________________________________________________\n",
      "lambda_1 (Lambda)            (None, None, 1)           0         \n",
      "=================================================================\n",
      "Total params: 25,249\n",
      "Trainable params: 25,249\n",
      "Non-trainable params: 0\n",
      "_________________________________________________________________\n"
     ]
    }
   ],
   "source": [
    "seq2seq = Seq2SeqConv(series,60)"
   ]
  },
  {
   "cell_type": "code",
   "execution_count": 14,
   "metadata": {
    "colab": {
     "base_uri": "https://localhost:8080/",
     "height": 431
    },
    "colab_type": "code",
    "id": "Jytexi_gpzHR",
    "outputId": "4ceb55fc-56c0-44de-f62f-a72a3dbc0d58"
   },
   "outputs": [
    {
     "name": "stdout",
     "output_type": "stream",
     "text": [
      "(40000, 742, 1)\n",
      "(40000, 60, 1)\n",
      "Train on 32000 samples, validate on 8000 samples\n",
      "Epoch 1/10\n",
      "32000/32000 [==============================] - 39s 1ms/step - loss: 0.3690 - val_loss: 0.3246\n",
      "Epoch 2/10\n",
      "32000/32000 [==============================] - 26s 799us/step - loss: 0.2797 - val_loss: 0.2764\n",
      "Epoch 3/10\n",
      "32000/32000 [==============================] - 26s 800us/step - loss: 0.2581 - val_loss: 0.2615\n",
      "Epoch 4/10\n",
      "32000/32000 [==============================] - 26s 803us/step - loss: 0.2523 - val_loss: 0.2578\n",
      "Epoch 5/10\n",
      "32000/32000 [==============================] - 26s 805us/step - loss: 0.2503 - val_loss: 0.2569\n",
      "Epoch 6/10\n",
      "32000/32000 [==============================] - 26s 806us/step - loss: 0.2492 - val_loss: 0.2563\n",
      "Epoch 7/10\n",
      "32000/32000 [==============================] - 26s 808us/step - loss: 0.2486 - val_loss: 0.2560\n",
      "Epoch 8/10\n",
      "32000/32000 [==============================] - 26s 808us/step - loss: 0.2481 - val_loss: 0.2555\n",
      "Epoch 9/10\n",
      "32000/32000 [==============================] - 26s 810us/step - loss: 0.2477 - val_loss: 0.2553\n",
      "Epoch 10/10\n",
      "32000/32000 [==============================] - 26s 809us/step - loss: 0.2474 - val_loss: 0.2549\n"
     ]
    }
   ],
   "source": [
    "seq2seq.fit(epochs=10)"
   ]
  },
  {
   "cell_type": "code",
   "execution_count": 15,
   "metadata": {
    "colab": {
     "base_uri": "https://localhost:8080/",
     "height": 295
    },
    "colab_type": "code",
    "id": "2kkpn1YspzHS",
    "outputId": "cef4a433-40c8-4fd0-f21a-27ce5855189b"
   },
   "outputs": [
    {
     "data": {
      "image/png": "[encoded data removed]",
      "text/plain": [
       "<Figure size 432x288 with 1 Axes>"
      ]
     },
     "metadata": {
      "tags": []
     },
     "output_type": "display_data"
    }
   ],
   "source": [
    "seq2seq.history_plot()"
   ]
  },
  {
   "cell_type": "code",
   "execution_count": null,
   "metadata": {
    "colab": {},
    "colab_type": "code",
    "id": "L64qJs8FpzHU"
   },
   "outputs": [],
   "source": [
    "saved_path = path.join(root_folder,\"seqConv.h5\")\n",
    "seq2seq.save_model(saved_path)"
   ]
  },
  {
   "cell_type": "markdown",
   "metadata": {
    "colab_type": "text",
    "id": "nAYEj3LKpzHW"
   },
   "source": [
    "## Training Fully Convolutional Seq2Seq WaveNet simple"
   ]
  },
  {
   "cell_type": "code",
   "execution_count": 17,
   "metadata": {
    "colab": {
     "base_uri": "https://localhost:8080/",
     "height": 35
    },
    "colab_type": "code",
    "id": "KjfMybVepzHX",
    "outputId": "ea56f807-1de9-470d-bf36-dadd5b724c8b"
   },
   "outputs": [
    {
     "name": "stdout",
     "output_type": "stream",
     "text": [
      "Data ranges from 2015-07-01 to 2017-09-10\n"
     ]
    }
   ],
   "source": [
    "series = WikiSeriesNN(train_file)"
   ]
  },
  {
   "cell_type": "code",
   "execution_count": 18,
   "metadata": {
    "colab": {
     "base_uri": "https://localhost:8080/",
     "height": 8027
    },
    "colab_type": "code",
    "id": "WNVknAgQpzHZ",
    "outputId": "00f0ca7c-6eb3-42e6-a58a-3c8af089b907"
   },
   "outputs": [
    {
     "name": "stdout",
     "output_type": "stream",
     "text": [
      "Train encoding: 2015-07-01 00:00:00 - 2017-05-13 00:00:00\n",
      "Train prediction: 2017-05-14 00:00:00 - 2017-07-12 00:00:00 \n",
      "\n",
      "Val encoding: 2015-08-30 00:00:00 - 2017-07-12 00:00:00\n",
      "Val prediction: 2017-07-13 00:00:00 - 2017-09-10 00:00:00\n",
      "\n",
      "Encoding interval: 683\n",
      "Prediction interval: 60\n",
      "__________________________________________________________________________________________________\n",
      "Layer (type)                    Output Shape         Param #     Connected to                     \n",
      "==================================================================================================\n",
      "input_6 (InputLayer)            (None, None, 1)      0                                            \n",
      "__________________________________________________________________________________________________\n",
      "conv1d_12 (Conv1D)              (None, None, 16)     32          input_6[0][0]                    \n",
      "__________________________________________________________________________________________________\n",
      "conv1d_13 (Conv1D)              (None, None, 32)     1056        conv1d_12[0][0]                  \n",
      "__________________________________________________________________________________________________\n",
      "conv1d_14 (Conv1D)              (None, None, 32)     1056        conv1d_12[0][0]                  \n",
      "__________________________________________________________________________________________________\n",
      "activation_1 (Activation)       (None, None, 32)     0           conv1d_13[0][0]                  \n",
      "__________________________________________________________________________________________________\n",
      "activation_2 (Activation)       (None, None, 32)     0           conv1d_14[0][0]                  \n",
      "__________________________________________________________________________________________________\n",
      "multiply_1 (Multiply)           (None, None, 32)     0           activation_1[0][0]               \n",
      "                                                                 activation_2[0][0]               \n",
      "__________________________________________________________________________________________________\n",
      "conv1d_15 (Conv1D)              (None, None, 16)     528         multiply_1[0][0]                 \n",
      "__________________________________________________________________________________________________\n",
      "add_1 (Add)                     (None, None, 16)     0           conv1d_12[0][0]                  \n",
      "                                                                 conv1d_15[0][0]                  \n",
      "__________________________________________________________________________________________________\n",
      "conv1d_16 (Conv1D)              (None, None, 16)     272         add_1[0][0]                      \n",
      "__________________________________________________________________________________________________\n",
      "conv1d_17 (Conv1D)              (None, None, 32)     1056        conv1d_16[0][0]                  \n",
      "__________________________________________________________________________________________________\n",
      "conv1d_18 (Conv1D)              (None, None, 32)     1056        conv1d_16[0][0]                  \n",
      "__________________________________________________________________________________________________\n",
      "activation_3 (Activation)       (None, None, 32)     0           conv1d_17[0][0]                  \n",
      "__________________________________________________________________________________________________\n",
      "activation_4 (Activation)       (None, None, 32)     0           conv1d_18[0][0]                  \n",
      "__________________________________________________________________________________________________\n",
      "multiply_2 (Multiply)           (None, None, 32)     0           activation_3[0][0]               \n",
      "                                                                 activation_4[0][0]               \n",
      "__________________________________________________________________________________________________\n",
      "conv1d_19 (Conv1D)              (None, None, 16)     528         multiply_2[0][0]                 \n",
      "__________________________________________________________________________________________________\n",
      "add_2 (Add)                     (None, None, 16)     0           conv1d_16[0][0]                  \n",
      "                                                                 conv1d_19[0][0]                  \n",
      "__________________________________________________________________________________________________\n",
      "conv1d_20 (Conv1D)              (None, None, 16)     272         add_2[0][0]                      \n",
      "__________________________________________________________________________________________________\n",
      "conv1d_21 (Conv1D)              (None, None, 32)     1056        conv1d_20[0][0]                  \n",
      "__________________________________________________________________________________________________\n",
      "conv1d_22 (Conv1D)              (None, None, 32)     1056        conv1d_20[0][0]                  \n",
      "__________________________________________________________________________________________________\n",
      "activation_5 (Activation)       (None, None, 32)     0           conv1d_21[0][0]                  \n",
      "__________________________________________________________________________________________________\n",
      "activation_6 (Activation)       (None, None, 32)     0           conv1d_22[0][0]                  \n",
      "__________________________________________________________________________________________________\n",
      "multiply_3 (Multiply)           (None, None, 32)     0           activation_5[0][0]               \n",
      "                                                                 activation_6[0][0]               \n",
      "__________________________________________________________________________________________________\n",
      "conv1d_23 (Conv1D)              (None, None, 16)     528         multiply_3[0][0]                 \n",
      "__________________________________________________________________________________________________\n",
      "add_3 (Add)                     (None, None, 16)     0           conv1d_20[0][0]                  \n",
      "                                                                 conv1d_23[0][0]                  \n",
      "__________________________________________________________________________________________________\n",
      "conv1d_24 (Conv1D)              (None, None, 16)     272         add_3[0][0]                      \n",
      "__________________________________________________________________________________________________\n",
      "conv1d_25 (Conv1D)              (None, None, 32)     1056        conv1d_24[0][0]                  \n",
      "__________________________________________________________________________________________________\n",
      "conv1d_26 (Conv1D)              (None, None, 32)     1056        conv1d_24[0][0]                  \n",
      "__________________________________________________________________________________________________\n",
      "activation_7 (Activation)       (None, None, 32)     0           conv1d_25[0][0]                  \n",
      "__________________________________________________________________________________________________\n",
      "activation_8 (Activation)       (None, None, 32)     0           conv1d_26[0][0]                  \n",
      "__________________________________________________________________________________________________\n",
      "multiply_4 (Multiply)           (None, None, 32)     0           activation_7[0][0]               \n",
      "                                                                 activation_8[0][0]               \n",
      "__________________________________________________________________________________________________\n",
      "conv1d_27 (Conv1D)              (None, None, 16)     528         multiply_4[0][0]                 \n",
      "__________________________________________________________________________________________________\n",
      "add_4 (Add)                     (None, None, 16)     0           conv1d_24[0][0]                  \n",
      "                                                                 conv1d_27[0][0]                  \n",
      "__________________________________________________________________________________________________\n",
      "conv1d_28 (Conv1D)              (None, None, 16)     272         add_4[0][0]                      \n",
      "__________________________________________________________________________________________________\n",
      "conv1d_29 (Conv1D)              (None, None, 32)     1056        conv1d_28[0][0]                  \n",
      "__________________________________________________________________________________________________\n",
      "conv1d_30 (Conv1D)              (None, None, 32)     1056        conv1d_28[0][0]                  \n",
      "__________________________________________________________________________________________________\n",
      "activation_9 (Activation)       (None, None, 32)     0           conv1d_29[0][0]                  \n",
      "__________________________________________________________________________________________________\n",
      "activation_10 (Activation)      (None, None, 32)     0           conv1d_30[0][0]                  \n",
      "__________________________________________________________________________________________________\n",
      "multiply_5 (Multiply)           (None, None, 32)     0           activation_9[0][0]               \n",
      "                                                                 activation_10[0][0]              \n",
      "__________________________________________________________________________________________________\n",
      "conv1d_31 (Conv1D)              (None, None, 16)     528         multiply_5[0][0]                 \n",
      "__________________________________________________________________________________________________\n",
      "add_5 (Add)                     (None, None, 16)     0           conv1d_28[0][0]                  \n",
      "                                                                 conv1d_31[0][0]                  \n",
      "__________________________________________________________________________________________________\n",
      "conv1d_32 (Conv1D)              (None, None, 16)     272         add_5[0][0]                      \n",
      "__________________________________________________________________________________________________\n",
      "conv1d_33 (Conv1D)              (None, None, 32)     1056        conv1d_32[0][0]                  \n",
      "__________________________________________________________________________________________________\n",
      "conv1d_34 (Conv1D)              (None, None, 32)     1056        conv1d_32[0][0]                  \n",
      "__________________________________________________________________________________________________\n",
      "activation_11 (Activation)      (None, None, 32)     0           conv1d_33[0][0]                  \n",
      "__________________________________________________________________________________________________\n",
      "activation_12 (Activation)      (None, None, 32)     0           conv1d_34[0][0]                  \n",
      "__________________________________________________________________________________________________\n",
      "multiply_6 (Multiply)           (None, None, 32)     0           activation_11[0][0]              \n",
      "                                                                 activation_12[0][0]              \n",
      "__________________________________________________________________________________________________\n",
      "conv1d_35 (Conv1D)              (None, None, 16)     528         multiply_6[0][0]                 \n",
      "__________________________________________________________________________________________________\n",
      "add_6 (Add)                     (None, None, 16)     0           conv1d_32[0][0]                  \n",
      "                                                                 conv1d_35[0][0]                  \n",
      "__________________________________________________________________________________________________\n",
      "conv1d_36 (Conv1D)              (None, None, 16)     272         add_6[0][0]                      \n",
      "__________________________________________________________________________________________________\n",
      "conv1d_37 (Conv1D)              (None, None, 32)     1056        conv1d_36[0][0]                  \n",
      "__________________________________________________________________________________________________\n",
      "conv1d_38 (Conv1D)              (None, None, 32)     1056        conv1d_36[0][0]                  \n",
      "__________________________________________________________________________________________________\n",
      "activation_13 (Activation)      (None, None, 32)     0           conv1d_37[0][0]                  \n",
      "__________________________________________________________________________________________________\n",
      "activation_14 (Activation)      (None, None, 32)     0           conv1d_38[0][0]                  \n",
      "__________________________________________________________________________________________________\n",
      "multiply_7 (Multiply)           (None, None, 32)     0           activation_13[0][0]              \n",
      "                                                                 activation_14[0][0]              \n",
      "__________________________________________________________________________________________________\n",
      "conv1d_39 (Conv1D)              (None, None, 16)     528         multiply_7[0][0]                 \n",
      "__________________________________________________________________________________________________\n",
      "add_7 (Add)                     (None, None, 16)     0           conv1d_36[0][0]                  \n",
      "                                                                 conv1d_39[0][0]                  \n",
      "__________________________________________________________________________________________________\n",
      "conv1d_40 (Conv1D)              (None, None, 16)     272         add_7[0][0]                      \n",
      "__________________________________________________________________________________________________\n",
      "conv1d_41 (Conv1D)              (None, None, 32)     1056        conv1d_40[0][0]                  \n",
      "__________________________________________________________________________________________________\n",
      "conv1d_42 (Conv1D)              (None, None, 32)     1056        conv1d_40[0][0]                  \n",
      "__________________________________________________________________________________________________\n",
      "activation_15 (Activation)      (None, None, 32)     0           conv1d_41[0][0]                  \n",
      "__________________________________________________________________________________________________\n",
      "activation_16 (Activation)      (None, None, 32)     0           conv1d_42[0][0]                  \n",
      "__________________________________________________________________________________________________\n",
      "multiply_8 (Multiply)           (None, None, 32)     0           activation_15[0][0]              \n",
      "                                                                 activation_16[0][0]              \n",
      "__________________________________________________________________________________________________\n",
      "conv1d_43 (Conv1D)              (None, None, 16)     528         multiply_8[0][0]                 \n",
      "__________________________________________________________________________________________________\n",
      "add_8 (Add)                     (None, None, 16)     0           conv1d_40[0][0]                  \n",
      "                                                                 conv1d_43[0][0]                  \n",
      "__________________________________________________________________________________________________\n",
      "conv1d_44 (Conv1D)              (None, None, 16)     272         add_8[0][0]                      \n",
      "__________________________________________________________________________________________________\n",
      "conv1d_45 (Conv1D)              (None, None, 32)     1056        conv1d_44[0][0]                  \n",
      "__________________________________________________________________________________________________\n",
      "conv1d_46 (Conv1D)              (None, None, 32)     1056        conv1d_44[0][0]                  \n",
      "__________________________________________________________________________________________________\n",
      "activation_17 (Activation)      (None, None, 32)     0           conv1d_45[0][0]                  \n",
      "__________________________________________________________________________________________________\n",
      "activation_18 (Activation)      (None, None, 32)     0           conv1d_46[0][0]                  \n",
      "__________________________________________________________________________________________________\n",
      "multiply_9 (Multiply)           (None, None, 32)     0           activation_17[0][0]              \n",
      "                                                                 activation_18[0][0]              \n",
      "__________________________________________________________________________________________________\n",
      "conv1d_47 (Conv1D)              (None, None, 16)     528         multiply_9[0][0]                 \n",
      "__________________________________________________________________________________________________\n",
      "add_9 (Add)                     (None, None, 16)     0           conv1d_44[0][0]                  \n",
      "                                                                 conv1d_47[0][0]                  \n",
      "__________________________________________________________________________________________________\n",
      "conv1d_48 (Conv1D)              (None, None, 16)     272         add_9[0][0]                      \n",
      "__________________________________________________________________________________________________\n",
      "conv1d_49 (Conv1D)              (None, None, 32)     1056        conv1d_48[0][0]                  \n",
      "__________________________________________________________________________________________________\n",
      "conv1d_50 (Conv1D)              (None, None, 32)     1056        conv1d_48[0][0]                  \n",
      "__________________________________________________________________________________________________\n",
      "activation_19 (Activation)      (None, None, 32)     0           conv1d_49[0][0]                  \n",
      "__________________________________________________________________________________________________\n",
      "activation_20 (Activation)      (None, None, 32)     0           conv1d_50[0][0]                  \n",
      "__________________________________________________________________________________________________\n",
      "multiply_10 (Multiply)          (None, None, 32)     0           activation_19[0][0]              \n",
      "                                                                 activation_20[0][0]              \n",
      "__________________________________________________________________________________________________\n",
      "conv1d_51 (Conv1D)              (None, None, 16)     528         multiply_10[0][0]                \n",
      "__________________________________________________________________________________________________\n",
      "add_10 (Add)                    (None, None, 16)     0           conv1d_48[0][0]                  \n",
      "                                                                 conv1d_51[0][0]                  \n",
      "__________________________________________________________________________________________________\n",
      "conv1d_52 (Conv1D)              (None, None, 16)     272         add_10[0][0]                     \n",
      "__________________________________________________________________________________________________\n",
      "conv1d_53 (Conv1D)              (None, None, 32)     1056        conv1d_52[0][0]                  \n",
      "__________________________________________________________________________________________________\n",
      "conv1d_54 (Conv1D)              (None, None, 32)     1056        conv1d_52[0][0]                  \n",
      "__________________________________________________________________________________________________\n",
      "activation_21 (Activation)      (None, None, 32)     0           conv1d_53[0][0]                  \n",
      "__________________________________________________________________________________________________\n",
      "activation_22 (Activation)      (None, None, 32)     0           conv1d_54[0][0]                  \n",
      "__________________________________________________________________________________________________\n",
      "multiply_11 (Multiply)          (None, None, 32)     0           activation_21[0][0]              \n",
      "                                                                 activation_22[0][0]              \n",
      "__________________________________________________________________________________________________\n",
      "conv1d_55 (Conv1D)              (None, None, 16)     528         multiply_11[0][0]                \n",
      "__________________________________________________________________________________________________\n",
      "add_11 (Add)                    (None, None, 16)     0           conv1d_52[0][0]                  \n",
      "                                                                 conv1d_55[0][0]                  \n",
      "__________________________________________________________________________________________________\n",
      "conv1d_56 (Conv1D)              (None, None, 16)     272         add_11[0][0]                     \n",
      "__________________________________________________________________________________________________\n",
      "conv1d_57 (Conv1D)              (None, None, 32)     1056        conv1d_56[0][0]                  \n",
      "__________________________________________________________________________________________________\n",
      "conv1d_58 (Conv1D)              (None, None, 32)     1056        conv1d_56[0][0]                  \n",
      "__________________________________________________________________________________________________\n",
      "activation_23 (Activation)      (None, None, 32)     0           conv1d_57[0][0]                  \n",
      "__________________________________________________________________________________________________\n",
      "activation_24 (Activation)      (None, None, 32)     0           conv1d_58[0][0]                  \n",
      "__________________________________________________________________________________________________\n",
      "multiply_12 (Multiply)          (None, None, 32)     0           activation_23[0][0]              \n",
      "                                                                 activation_24[0][0]              \n",
      "__________________________________________________________________________________________________\n",
      "conv1d_59 (Conv1D)              (None, None, 16)     528         multiply_12[0][0]                \n",
      "__________________________________________________________________________________________________\n",
      "add_12 (Add)                    (None, None, 16)     0           conv1d_56[0][0]                  \n",
      "                                                                 conv1d_59[0][0]                  \n",
      "__________________________________________________________________________________________________\n",
      "conv1d_60 (Conv1D)              (None, None, 16)     272         add_12[0][0]                     \n",
      "__________________________________________________________________________________________________\n",
      "conv1d_61 (Conv1D)              (None, None, 32)     1056        conv1d_60[0][0]                  \n",
      "__________________________________________________________________________________________________\n",
      "conv1d_62 (Conv1D)              (None, None, 32)     1056        conv1d_60[0][0]                  \n",
      "__________________________________________________________________________________________________\n",
      "activation_25 (Activation)      (None, None, 32)     0           conv1d_61[0][0]                  \n",
      "__________________________________________________________________________________________________\n",
      "activation_26 (Activation)      (None, None, 32)     0           conv1d_62[0][0]                  \n",
      "__________________________________________________________________________________________________\n",
      "multiply_13 (Multiply)          (None, None, 32)     0           activation_25[0][0]              \n",
      "                                                                 activation_26[0][0]              \n",
      "__________________________________________________________________________________________________\n",
      "conv1d_63 (Conv1D)              (None, None, 16)     528         multiply_13[0][0]                \n",
      "__________________________________________________________________________________________________\n",
      "add_13 (Add)                    (None, None, 16)     0           conv1d_60[0][0]                  \n",
      "                                                                 conv1d_63[0][0]                  \n",
      "__________________________________________________________________________________________________\n",
      "conv1d_64 (Conv1D)              (None, None, 16)     272         add_13[0][0]                     \n",
      "__________________________________________________________________________________________________\n",
      "conv1d_65 (Conv1D)              (None, None, 32)     1056        conv1d_64[0][0]                  \n",
      "__________________________________________________________________________________________________\n",
      "conv1d_66 (Conv1D)              (None, None, 32)     1056        conv1d_64[0][0]                  \n",
      "__________________________________________________________________________________________________\n",
      "activation_27 (Activation)      (None, None, 32)     0           conv1d_65[0][0]                  \n",
      "__________________________________________________________________________________________________\n",
      "activation_28 (Activation)      (None, None, 32)     0           conv1d_66[0][0]                  \n",
      "__________________________________________________________________________________________________\n",
      "multiply_14 (Multiply)          (None, None, 32)     0           activation_27[0][0]              \n",
      "                                                                 activation_28[0][0]              \n",
      "__________________________________________________________________________________________________\n",
      "conv1d_67 (Conv1D)              (None, None, 16)     528         multiply_14[0][0]                \n",
      "__________________________________________________________________________________________________\n",
      "add_14 (Add)                    (None, None, 16)     0           conv1d_64[0][0]                  \n",
      "                                                                 conv1d_67[0][0]                  \n",
      "__________________________________________________________________________________________________\n",
      "conv1d_68 (Conv1D)              (None, None, 16)     272         add_14[0][0]                     \n",
      "__________________________________________________________________________________________________\n",
      "conv1d_69 (Conv1D)              (None, None, 32)     1056        conv1d_68[0][0]                  \n",
      "__________________________________________________________________________________________________\n",
      "conv1d_70 (Conv1D)              (None, None, 32)     1056        conv1d_68[0][0]                  \n",
      "__________________________________________________________________________________________________\n",
      "activation_29 (Activation)      (None, None, 32)     0           conv1d_69[0][0]                  \n",
      "__________________________________________________________________________________________________\n",
      "activation_30 (Activation)      (None, None, 32)     0           conv1d_70[0][0]                  \n",
      "__________________________________________________________________________________________________\n",
      "multiply_15 (Multiply)          (None, None, 32)     0           activation_29[0][0]              \n",
      "                                                                 activation_30[0][0]              \n",
      "__________________________________________________________________________________________________\n",
      "conv1d_71 (Conv1D)              (None, None, 16)     528         multiply_15[0][0]                \n",
      "__________________________________________________________________________________________________\n",
      "add_15 (Add)                    (None, None, 16)     0           conv1d_68[0][0]                  \n",
      "                                                                 conv1d_71[0][0]                  \n",
      "__________________________________________________________________________________________________\n",
      "conv1d_72 (Conv1D)              (None, None, 16)     272         add_15[0][0]                     \n",
      "__________________________________________________________________________________________________\n",
      "conv1d_73 (Conv1D)              (None, None, 32)     1056        conv1d_72[0][0]                  \n",
      "__________________________________________________________________________________________________\n",
      "conv1d_74 (Conv1D)              (None, None, 32)     1056        conv1d_72[0][0]                  \n",
      "__________________________________________________________________________________________________\n",
      "activation_31 (Activation)      (None, None, 32)     0           conv1d_73[0][0]                  \n",
      "__________________________________________________________________________________________________\n",
      "activation_32 (Activation)      (None, None, 32)     0           conv1d_74[0][0]                  \n",
      "__________________________________________________________________________________________________\n",
      "multiply_16 (Multiply)          (None, None, 32)     0           activation_31[0][0]              \n",
      "                                                                 activation_32[0][0]              \n",
      "__________________________________________________________________________________________________\n",
      "conv1d_75 (Conv1D)              (None, None, 16)     528         multiply_16[0][0]                \n",
      "__________________________________________________________________________________________________\n",
      "add_16 (Add)                    (None, None, 16)     0           conv1d_72[0][0]                  \n",
      "                                                                 conv1d_75[0][0]                  \n",
      "__________________________________________________________________________________________________\n",
      "conv1d_76 (Conv1D)              (None, None, 16)     272         add_16[0][0]                     \n",
      "__________________________________________________________________________________________________\n",
      "conv1d_77 (Conv1D)              (None, None, 32)     1056        conv1d_76[0][0]                  \n",
      "__________________________________________________________________________________________________\n",
      "conv1d_78 (Conv1D)              (None, None, 32)     1056        conv1d_76[0][0]                  \n",
      "__________________________________________________________________________________________________\n",
      "activation_33 (Activation)      (None, None, 32)     0           conv1d_77[0][0]                  \n",
      "__________________________________________________________________________________________________\n",
      "activation_34 (Activation)      (None, None, 32)     0           conv1d_78[0][0]                  \n",
      "__________________________________________________________________________________________________\n",
      "multiply_17 (Multiply)          (None, None, 32)     0           activation_33[0][0]              \n",
      "                                                                 activation_34[0][0]              \n",
      "__________________________________________________________________________________________________\n",
      "conv1d_79 (Conv1D)              (None, None, 16)     528         multiply_17[0][0]                \n",
      "__________________________________________________________________________________________________\n",
      "add_17 (Add)                    (None, None, 16)     0           conv1d_76[0][0]                  \n",
      "                                                                 conv1d_79[0][0]                  \n",
      "__________________________________________________________________________________________________\n",
      "conv1d_80 (Conv1D)              (None, None, 16)     272         add_17[0][0]                     \n",
      "__________________________________________________________________________________________________\n",
      "conv1d_81 (Conv1D)              (None, None, 32)     1056        conv1d_80[0][0]                  \n",
      "__________________________________________________________________________________________________\n",
      "conv1d_82 (Conv1D)              (None, None, 32)     1056        conv1d_80[0][0]                  \n",
      "__________________________________________________________________________________________________\n",
      "activation_35 (Activation)      (None, None, 32)     0           conv1d_81[0][0]                  \n",
      "__________________________________________________________________________________________________\n",
      "activation_36 (Activation)      (None, None, 32)     0           conv1d_82[0][0]                  \n",
      "__________________________________________________________________________________________________\n",
      "multiply_18 (Multiply)          (None, None, 32)     0           activation_35[0][0]              \n",
      "                                                                 activation_36[0][0]              \n",
      "__________________________________________________________________________________________________\n",
      "conv1d_83 (Conv1D)              (None, None, 16)     528         multiply_18[0][0]                \n",
      "__________________________________________________________________________________________________\n",
      "add_18 (Add)                    (None, None, 16)     0           conv1d_80[0][0]                  \n",
      "                                                                 conv1d_83[0][0]                  \n",
      "__________________________________________________________________________________________________\n",
      "conv1d_84 (Conv1D)              (None, None, 16)     272         add_18[0][0]                     \n",
      "__________________________________________________________________________________________________\n",
      "conv1d_85 (Conv1D)              (None, None, 32)     1056        conv1d_84[0][0]                  \n",
      "__________________________________________________________________________________________________\n",
      "conv1d_86 (Conv1D)              (None, None, 32)     1056        conv1d_84[0][0]                  \n",
      "__________________________________________________________________________________________________\n",
      "activation_37 (Activation)      (None, None, 32)     0           conv1d_85[0][0]                  \n",
      "__________________________________________________________________________________________________\n",
      "activation_38 (Activation)      (None, None, 32)     0           conv1d_86[0][0]                  \n",
      "__________________________________________________________________________________________________\n",
      "multiply_19 (Multiply)          (None, None, 32)     0           activation_37[0][0]              \n",
      "                                                                 activation_38[0][0]              \n",
      "__________________________________________________________________________________________________\n",
      "conv1d_87 (Conv1D)              (None, None, 16)     528         multiply_19[0][0]                \n",
      "__________________________________________________________________________________________________\n",
      "add_19 (Add)                    (None, None, 16)     0           conv1d_84[0][0]                  \n",
      "                                                                 conv1d_87[0][0]                  \n",
      "__________________________________________________________________________________________________\n",
      "conv1d_88 (Conv1D)              (None, None, 16)     272         add_19[0][0]                     \n",
      "__________________________________________________________________________________________________\n",
      "conv1d_89 (Conv1D)              (None, None, 32)     1056        conv1d_88[0][0]                  \n",
      "__________________________________________________________________________________________________\n",
      "conv1d_90 (Conv1D)              (None, None, 32)     1056        conv1d_88[0][0]                  \n",
      "__________________________________________________________________________________________________\n",
      "activation_39 (Activation)      (None, None, 32)     0           conv1d_89[0][0]                  \n",
      "__________________________________________________________________________________________________\n",
      "activation_40 (Activation)      (None, None, 32)     0           conv1d_90[0][0]                  \n",
      "__________________________________________________________________________________________________\n",
      "multiply_20 (Multiply)          (None, None, 32)     0           activation_39[0][0]              \n",
      "                                                                 activation_40[0][0]              \n",
      "__________________________________________________________________________________________________\n",
      "conv1d_91 (Conv1D)              (None, None, 16)     528         multiply_20[0][0]                \n",
      "__________________________________________________________________________________________________\n",
      "add_20 (Add)                    (None, None, 16)     0           conv1d_88[0][0]                  \n",
      "                                                                 conv1d_91[0][0]                  \n",
      "__________________________________________________________________________________________________\n",
      "conv1d_92 (Conv1D)              (None, None, 16)     272         add_20[0][0]                     \n",
      "__________________________________________________________________________________________________\n",
      "conv1d_93 (Conv1D)              (None, None, 32)     1056        conv1d_92[0][0]                  \n",
      "__________________________________________________________________________________________________\n",
      "conv1d_94 (Conv1D)              (None, None, 32)     1056        conv1d_92[0][0]                  \n",
      "__________________________________________________________________________________________________\n",
      "activation_41 (Activation)      (None, None, 32)     0           conv1d_93[0][0]                  \n",
      "__________________________________________________________________________________________________\n",
      "activation_42 (Activation)      (None, None, 32)     0           conv1d_94[0][0]                  \n",
      "__________________________________________________________________________________________________\n",
      "multiply_21 (Multiply)          (None, None, 32)     0           activation_41[0][0]              \n",
      "                                                                 activation_42[0][0]              \n",
      "__________________________________________________________________________________________________\n",
      "conv1d_95 (Conv1D)              (None, None, 16)     528         multiply_21[0][0]                \n",
      "__________________________________________________________________________________________________\n",
      "add_21 (Add)                    (None, None, 16)     0           conv1d_92[0][0]                  \n",
      "                                                                 conv1d_95[0][0]                  \n",
      "__________________________________________________________________________________________________\n",
      "conv1d_96 (Conv1D)              (None, None, 16)     272         add_21[0][0]                     \n",
      "__________________________________________________________________________________________________\n",
      "conv1d_97 (Conv1D)              (None, None, 32)     1056        conv1d_96[0][0]                  \n",
      "__________________________________________________________________________________________________\n",
      "conv1d_98 (Conv1D)              (None, None, 32)     1056        conv1d_96[0][0]                  \n",
      "__________________________________________________________________________________________________\n",
      "activation_43 (Activation)      (None, None, 32)     0           conv1d_97[0][0]                  \n",
      "__________________________________________________________________________________________________\n",
      "activation_44 (Activation)      (None, None, 32)     0           conv1d_98[0][0]                  \n",
      "__________________________________________________________________________________________________\n",
      "multiply_22 (Multiply)          (None, None, 32)     0           activation_43[0][0]              \n",
      "                                                                 activation_44[0][0]              \n",
      "__________________________________________________________________________________________________\n",
      "conv1d_99 (Conv1D)              (None, None, 16)     528         multiply_22[0][0]                \n",
      "__________________________________________________________________________________________________\n",
      "add_23 (Add)                    (None, None, 16)     0           conv1d_15[0][0]                  \n",
      "                                                                 conv1d_19[0][0]                  \n",
      "                                                                 conv1d_23[0][0]                  \n",
      "                                                                 conv1d_27[0][0]                  \n",
      "                                                                 conv1d_31[0][0]                  \n",
      "                                                                 conv1d_35[0][0]                  \n",
      "                                                                 conv1d_39[0][0]                  \n",
      "                                                                 conv1d_43[0][0]                  \n",
      "                                                                 conv1d_47[0][0]                  \n",
      "                                                                 conv1d_51[0][0]                  \n",
      "                                                                 conv1d_55[0][0]                  \n",
      "                                                                 conv1d_59[0][0]                  \n",
      "                                                                 conv1d_63[0][0]                  \n",
      "                                                                 conv1d_67[0][0]                  \n",
      "                                                                 conv1d_71[0][0]                  \n",
      "                                                                 conv1d_75[0][0]                  \n",
      "                                                                 conv1d_79[0][0]                  \n",
      "                                                                 conv1d_83[0][0]                  \n",
      "                                                                 conv1d_87[0][0]                  \n",
      "                                                                 conv1d_91[0][0]                  \n",
      "                                                                 conv1d_95[0][0]                  \n",
      "                                                                 conv1d_99[0][0]                  \n",
      "__________________________________________________________________________________________________\n",
      "activation_45 (Activation)      (None, None, 16)     0           add_23[0][0]                     \n",
      "__________________________________________________________________________________________________\n",
      "conv1d_100 (Conv1D)             (None, None, 1024)   17408       activation_45[0][0]              \n",
      "__________________________________________________________________________________________________\n",
      "activation_46 (Activation)      (None, None, 1024)   0           conv1d_100[0][0]                 \n",
      "__________________________________________________________________________________________________\n",
      "dropout_2 (Dropout)             (None, None, 1024)   0           activation_46[0][0]              \n",
      "__________________________________________________________________________________________________\n",
      "conv1d_101 (Conv1D)             (None, None, 1)      1025        dropout_2[0][0]                  \n",
      "__________________________________________________________________________________________________\n",
      "lambda_2 (Lambda)               (None, None, 1)      0           conv1d_101[0][0]                 \n",
      "==================================================================================================\n",
      "Total params: 82,257\n",
      "Trainable params: 82,257\n",
      "Non-trainable params: 0\n",
      "__________________________________________________________________________________________________\n"
     ]
    }
   ],
   "source": [
    "seq2seq = Seq2SeqConvFull(series,60)"
   ]
  },
  {
   "cell_type": "code",
   "execution_count": 19,
   "metadata": {
    "colab": {
     "base_uri": "https://localhost:8080/",
     "height": 431
    },
    "colab_type": "code",
    "id": "7YNPinnVpzHc",
    "outputId": "f0801aa3-7840-4cb3-988e-0f8f71075077"
   },
   "outputs": [
    {
     "name": "stdout",
     "output_type": "stream",
     "text": [
      "(40000, 742, 1)\n",
      "(40000, 60, 1)\n",
      "Train on 32000 samples, validate on 8000 samples\n",
      "Epoch 1/10\n",
      "32000/32000 [==============================] - 116s 4ms/step - loss: 0.2683 - val_loss: 0.2580\n",
      "Epoch 2/10\n",
      "32000/32000 [==============================] - 104s 3ms/step - loss: 0.2432 - val_loss: 0.2553\n",
      "Epoch 3/10\n",
      "32000/32000 [==============================] - 104s 3ms/step - loss: 0.2398 - val_loss: 0.2528\n",
      "Epoch 4/10\n",
      "32000/32000 [==============================] - 104s 3ms/step - loss: 0.2373 - val_loss: 0.2481\n",
      "Epoch 5/10\n",
      "32000/32000 [==============================] - 104s 3ms/step - loss: 0.2355 - val_loss: 0.2465\n",
      "Epoch 6/10\n",
      "32000/32000 [==============================] - 104s 3ms/step - loss: 0.2344 - val_loss: 0.2450\n",
      "Epoch 7/10\n",
      "32000/32000 [==============================] - 104s 3ms/step - loss: 0.2335 - val_loss: 0.2442\n",
      "Epoch 8/10\n",
      "32000/32000 [==============================] - 104s 3ms/step - loss: 0.2329 - val_loss: 0.2441\n",
      "Epoch 9/10\n",
      "32000/32000 [==============================] - 104s 3ms/step - loss: 0.2325 - val_loss: 0.2435\n",
      "Epoch 10/10\n",
      "32000/32000 [==============================] - 104s 3ms/step - loss: 0.2323 - val_loss: 0.2437\n"
     ]
    }
   ],
   "source": [
    "seq2seq.fit(epochs=10, batch_size= 2 ** 8)"
   ]
  },
  {
   "cell_type": "code",
   "execution_count": 22,
   "metadata": {
    "colab": {
     "base_uri": "https://localhost:8080/",
     "height": 295
    },
    "colab_type": "code",
    "id": "_uozci3ipzHg",
    "outputId": "9b0f4aad-e75e-43cc-f269-bb5a92b8ee78"
   },
   "outputs": [
    {
     "data": {
      "image/png": "[encoded data removed]",
      "text/plain": [
       "<Figure size 432x288 with 1 Axes>"
      ]
     },
     "metadata": {
      "tags": []
     },
     "output_type": "display_data"
    }
   ],
   "source": [
    "seq2seq.history_plot()"
   ]
  },
  {
   "cell_type": "code",
   "execution_count": null,
   "metadata": {
    "colab": {},
    "colab_type": "code",
    "id": "z_xwPfDJpzHj"
   },
   "outputs": [],
   "source": [
    "saved_path = path.join(root_folder,\"seqConvFull.h5\")\n",
    "seq2seq.save_model(saved_path)"
   ]
  },
  {
   "cell_type": "code",
   "execution_count": null,
   "metadata": {
    "colab": {},
    "colab_type": "code",
    "id": "pbcOBpkOpzHl"
   },
   "outputs": [],
   "source": []
  }
 ],
 "metadata": {
  "accelerator": "GPU",
  "colab": {
   "name": "TrainingSeq2SeqModels.ipynb",
   "provenance": [],
   "toc_visible": true,
   "version": "0.3.2"
  },
  "kernelspec": {
   "display_name": "Python 3",
   "language": "python",
   "name": "python3"
  },
  "language_info": {
   "codemirror_mode": {
    "name": "ipython",
    "version": 3
   },
   "file_extension": ".py",
   "mimetype": "text/x-python",
   "name": "python",
   "nbconvert_exporter": "python",
   "pygments_lexer": "ipython3",
   "version": "3.7.3"
  }
 },
 "nbformat": 4,
 "nbformat_minor": 2
}
